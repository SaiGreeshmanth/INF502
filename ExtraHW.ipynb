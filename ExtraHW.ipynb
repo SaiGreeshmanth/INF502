{
  "nbformat": 4,
  "nbformat_minor": 0,
  "metadata": {
    "colab": {
      "provenance": [],
      "collapsed_sections": []
    },
    "kernelspec": {
      "name": "python3",
      "display_name": "Python 3"
    },
    "language_info": {
      "name": "python"
    }
  },
  "cells": [
    {
      "cell_type": "markdown",
      "source": [
        "# **Extra-credit: in-class assignment**\n",
        "\n",
        "Students' names:<br>\n",
        "Tharun Theerupally<br>\n",
        "Sai Greeshmanth Chigurupati<br>\n",
        "(GitHub (Tharun Theerupally): https://github.com/tharunrede/INF502/blob/main/ExtraHW.ipynb )<br>\n",
        "(GitHub (Sai Greeshmanth Chigurupati): https://github.com/SaiGreeshmanth/INF-502/blob/main/extrahw.ipynb )"
      ],
      "metadata": {
        "id": "fAWk6AHL_YzR"
      }
    },
    {
      "cell_type": "code",
      "execution_count": 1,
      "metadata": {
        "id": "NCm1jUM1Ld1W"
      },
      "outputs": [],
      "source": [
        "import requests\n",
        "import pandas as pd\n",
        "import numpy as np\n",
        "from bs4 import BeautifulSoup\n"
      ]
    },
    {
      "cell_type": "code",
      "source": [
        "result = requests.get(\"https://en.wikipedia.org/wiki/List_of_countries_and_dependencies_by_population_density\")  \n",
        "content = result.content\n",
        "soup = BeautifulSoup(content, 'html.parser')"
      ],
      "metadata": {
        "id": "tv76vMxw33K7"
      },
      "execution_count": 2,
      "outputs": []
    },
    {
      "cell_type": "code",
      "source": [
        "tables = soup.find_all('table')\n",
        "table = tables[0]\n",
        "df = pd.DataFrame(columns=['Country_Name', 'Area_sqkm', 'Area_sqmi', 'Population'])\n"
      ],
      "metadata": {
        "id": "6DbU4qBH33Xp"
      },
      "execution_count": 3,
      "outputs": []
    },
    {
      "cell_type": "code",
      "source": [
        "\n",
        "for row in table.tbody.find_all('tr'):    \n",
        "    columns = row.find_all('td')\n",
        "    Country_Name = row.find_all('th')\n",
        "\n",
        "    if(columns != []):\n",
        "        Country_Name = Country_Name[0].text.strip()\n",
        "        Area_sqkm = float((columns[1].text.strip()).replace(',', ''))\n",
        "        Area_sqmi = float((columns[2].text.strip()).replace(',', ''))\n",
        "        population = float((columns[0].text.strip()).replace(',', ''))\n",
        "        df = df.append({'Country_Name': Country_Name,  'Area_sqkm': Area_sqkm, 'Area_sqmi': Area_sqmi, 'Population': population}, ignore_index=True)"
      ],
      "metadata": {
        "id": "eL1y5KdD4Ame"
      },
      "execution_count": 4,
      "outputs": []
    },
    {
      "cell_type": "code",
      "source": [
        "df = df.set_index(\"Country_Name\")\n",
        "#df.head()"
      ],
      "metadata": {
        "id": "kCRhhqEaegaN"
      },
      "execution_count": 5,
      "outputs": []
    },
    {
      "cell_type": "code",
      "source": [
        "df = df.drop([\"World (excluding Antarctica)\", \"World (all land)\"])"
      ],
      "metadata": {
        "id": "5DOwiS1jegcS"
      },
      "execution_count": 6,
      "outputs": []
    },
    {
      "cell_type": "code",
      "source": [
        "print(df.describe(include=[np.number]))\n",
        "#df.sort_values(by=['Population'])\n"
      ],
      "metadata": {
        "colab": {
          "base_uri": "https://localhost:8080/"
        },
        "id": "P3cFmUBvf2As",
        "outputId": "cc5fba7f-e9e3-4de6-ed8b-e0491b76c787"
      },
      "execution_count": 7,
      "outputs": [
        {
          "output_type": "stream",
          "name": "stdout",
          "text": [
            "          Area_sqkm     Area_sqmi    Population\n",
            "count  2.480000e+02  2.480000e+02  2.480000e+02\n",
            "mean   5.456364e+05  2.106702e+05  3.189263e+07\n",
            "std    1.700353e+06  6.565065e+05  1.325428e+08\n",
            "min    0.000000e+00  0.000000e+00  4.700000e+01\n",
            "25%    1.533250e+03  5.920000e+02  3.130185e+05\n",
            "50%    6.493100e+04  2.506950e+04  5.058126e+06\n",
            "75%    3.623352e+05  1.398980e+05  1.959232e+07\n",
            "max    1.709825e+07  6.601633e+06  1.425893e+09\n"
          ]
        }
      ]
    },
    {
      "cell_type": "code",
      "source": [
        "df.plot.scatter(x = \"Population\", y = \"Area_sqkm\")"
      ],
      "metadata": {
        "colab": {
          "base_uri": "https://localhost:8080/",
          "height": 307
        },
        "id": "v_t0DaVLfwJv",
        "outputId": "b4b5f3e3-2617-49ac-bfc7-ff3b103f0b89"
      },
      "execution_count": 8,
      "outputs": [
        {
          "output_type": "execute_result",
          "data": {
            "text/plain": [
              "<matplotlib.axes._subplots.AxesSubplot at 0x7f27af7c3e50>"
            ]
          },
          "metadata": {},
          "execution_count": 8
        },
        {
          "output_type": "display_data",
          "data": {
            "text/plain": [
              "<Figure size 432x288 with 1 Axes>"
            ],
            "image/png": "[encoded data removed]"
          },
          "metadata": {
            "needs_background": "light"
          }
        }
      ]
    }
  ]
}