{
  "nbformat": 4,
  "nbformat_minor": 0,
  "metadata": {
    "colab": {
      "provenance": [],
      "collapsed_sections": []
    },
    "kernelspec": {
      "name": "python3",
      "display_name": "Python 3"
    },
    "language_info": {
      "name": "python"
    }
  },
  "cells": [
    {
      "cell_type": "markdown",
      "source": [
        "# **Extra-credit: in-class assignment**"
      ],
      "metadata": {
        "id": "fAWk6AHL_YzR"
      }
    },
    {
      "cell_type": "code",
      "execution_count": 10,
      "metadata": {
        "id": "NCm1jUM1Ld1W"
      },
      "outputs": [],
      "source": [
        "import requests\n",
        "import pandas as pd\n",
        "import numpy as np\n",
        "from bs4 import BeautifulSoup\n"
      ]
    },
    {
      "cell_type": "code",
      "source": [
        "result = requests.get(\"https://en.wikipedia.org/wiki/List_of_countries_and_dependencies_by_population_density\")  \n",
        "content = result.content\n",
        "soup = BeautifulSoup(content, 'html.parser')"
      ],
      "metadata": {
        "id": "tv76vMxw33K7"
      },
      "execution_count": 11,
      "outputs": []
    },
    {
      "cell_type": "code",
      "source": [
        "tables = soup.find_all('table')\n",
        "table = tables[0]\n",
        "df = pd.DataFrame(columns=['Country_Name', 'Area_sqkm', 'Area_sqmi', 'Population'])\n"
      ],
      "metadata": {
        "id": "6DbU4qBH33Xp"
      },
      "execution_count": 12,
      "outputs": []
    },
    {
      "cell_type": "code",
      "source": [
        "\n",
        "for row in table.tbody.find_all('tr'):    \n",
        "    columns = row.find_all('td')\n",
        "    Country_Name = row.find_all('th')\n",
        "\n",
        "    if(columns != []):\n",
        "        Country_Name = Country_Name[0].text.strip()\n",
        "        Area_sqkm = float((columns[1].text.strip()).replace(',', ''))\n",
        "        Area_sqmi = float((columns[2].text.strip()).replace(',', ''))\n",
        "        population = float((columns[0].text.strip()).replace(',', ''))\n",
        "        df = df.append({'Country_Name': Country_Name,  'Area_sqkm': Area_sqkm, 'Area_sqmi': Area_sqmi, 'Population': population}, ignore_index=True)"
      ],
      "metadata": {
        "id": "eL1y5KdD4Ame"
      },
      "execution_count": 13,
      "outputs": []
    },
    {
      "cell_type": "code",
      "source": [
        "print(df)\n"
      ],
      "metadata": {
        "colab": {
          "base_uri": "https://localhost:8080/"
        },
        "id": "BxF4F2dx4A1J",
        "outputId": "54e4d260-44ef-462f-f68c-86717b82765b"
      },
      "execution_count": 14,
      "outputs": [
        {
          "output_type": "stream",
          "name": "stdout",
          "text": [
            "                        Country_Name  Area_sqkm  Area_sqmi  Population\n",
            "0                      Macau (China)       33.0      13.00    686607.0\n",
            "1                             Monaco        2.0       1.00     36686.0\n",
            "2                          Singapore      716.0     276.00   5453600.0\n",
            "3                  Hong Kong (China)     1104.0     426.00   7494578.0\n",
            "4                    Gibraltar (BOT)        6.0       2.00     32669.0\n",
            "..                               ...        ...        ...         ...\n",
            "245                         Mongolia  1564116.0  603905.00   3347782.0\n",
            "246         Western Sahara [note 14]   266000.0  102703.00    565581.0\n",
            "247           Falkland Islands (BOT)    12173.0    4700.00      3764.0\n",
            "248  Svalbard and Jan Mayen (Norway)    62422.0   24101.13      2939.0\n",
            "249              Greenland (Denmark)  2166086.0  836325.80     56243.0\n",
            "\n",
            "[250 rows x 4 columns]\n"
          ]
        }
      ]
    },
    {
      "cell_type": "code",
      "source": [
        "print(df.describe(include=[np.number]))\n"
      ],
      "metadata": {
        "colab": {
          "base_uri": "https://localhost:8080/"
        },
        "id": "HP38dgFy33ke",
        "outputId": "f24d5442-8589-4d7d-9bd4-c777743de72d"
      },
      "execution_count": 15,
      "outputs": [
        {
          "output_type": "stream",
          "name": "stdout",
          "text": [
            "          Area_sqkm     Area_sqmi    Population\n",
            "count  2.500000e+02  2.500000e+02  2.500000e+02\n",
            "mean   1.675991e+06  6.471002e+05  9.555997e+07\n",
            "std    1.274144e+07  4.919469e+06  7.225530e+08\n",
            "min    0.000000e+00  0.000000e+00  4.700000e+01\n",
            "25%    1.611250e+03  6.220000e+02  3.167948e+05\n",
            "50%    6.545500e+04  2.527200e+04  5.131560e+06\n",
            "75%    3.875502e+05  1.496330e+05  2.096571e+07\n",
            "max    1.489400e+08  5.750573e+07  7.990310e+09\n"
          ]
        }
      ]
    },
    {
      "cell_type": "code",
      "source": [
        "df.plot.scatter(x = \"Population\", y = \"Area_sqkm\")"
      ],
      "metadata": {
        "colab": {
          "base_uri": "https://localhost:8080/",
          "height": 307
        },
        "id": "1cQFqxme4c_J",
        "outputId": "9b7c75a3-555a-47f7-e56a-dbe68d08f1ac"
      },
      "execution_count": 16,
      "outputs": [
        {
          "output_type": "execute_result",
          "data": {
            "text/plain": [
              "<matplotlib.axes._subplots.AxesSubplot at 0x7f028cbc95d0>"
            ]
          },
          "metadata": {},
          "execution_count": 16
        },
        {
          "output_type": "display_data",
          "data": {
            "text/plain": [
              "<Figure size 432x288 with 1 Axes>"
            ],
            "image/png": "[encoded data removed]"
          },
          "metadata": {
            "needs_background": "light"
          }
        }
      ]
    }
  ]
}